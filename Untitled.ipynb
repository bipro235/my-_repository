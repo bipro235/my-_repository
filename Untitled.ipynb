{
 "cells": [
  {
   "cell_type": "markdown",
   "id": "739dec3d",
   "metadata": {},
   "source": [
    "## Fetching the US Stock data using Alpha Vantage"
   ]
  },
  {
   "cell_type": "code",
   "execution_count": 77,
   "id": "344f796f",
   "metadata": {},
   "outputs": [],
   "source": [
    "from alpha_vantage.timeseries import TimeSeries"
   ]
  },
  {
   "cell_type": "code",
   "execution_count": 78,
   "id": "7d1f7bc2",
   "metadata": {},
   "outputs": [],
   "source": [
    "import matplotlib.pyplot as plt"
   ]
  },
  {
   "cell_type": "code",
   "execution_count": 79,
   "id": "6a30c67b",
   "metadata": {},
   "outputs": [],
   "source": [
    "import mplfinance as mpf"
   ]
  },
  {
   "cell_type": "code",
   "execution_count": 80,
   "id": "9b955761",
   "metadata": {},
   "outputs": [],
   "source": [
    "import pandas as pd"
   ]
  },
  {
   "cell_type": "code",
   "execution_count": 81,
   "id": "83aeaa28",
   "metadata": {},
   "outputs": [],
   "source": [
    "api_key = 'IDEY1N9XI1Y7HHUE'"
   ]
  },
  {
   "cell_type": "code",
   "execution_count": 82,
   "id": "3a56c38d",
   "metadata": {},
   "outputs": [],
   "source": [
    "ts = TimeSeries(key=api_key)"
   ]
  },
  {
   "cell_type": "code",
   "execution_count": 83,
   "id": "94f72c20",
   "metadata": {},
   "outputs": [],
   "source": [
    "interval = '1min'"
   ]
  },
  {
   "cell_type": "code",
   "execution_count": 84,
   "id": "30d73b52",
   "metadata": {},
   "outputs": [],
   "source": [
    "data_1, meta_data_1 = ts.get_intraday(symbol = 'AAPL', interval = interval, outputsize = 'compact')"
   ]
  },
  {
   "cell_type": "code",
   "execution_count": 85,
   "id": "a5cf0d38",
   "metadata": {},
   "outputs": [],
   "source": [
    "data_2, meta_data_2 = ts.get_intraday(symbol = 'GOOGL', interval = interval, outputsize = 'compact')"
   ]
  },
  {
   "cell_type": "code",
   "execution_count": 86,
   "id": "30e6074d",
   "metadata": {},
   "outputs": [],
   "source": [
    "data_3, meta_data_3 = ts.get_intraday(symbol = 'NVDA', interval = interval, outputsize = 'compact')"
   ]
  },
  {
   "cell_type": "code",
   "execution_count": 87,
   "id": "2da87e32",
   "metadata": {},
   "outputs": [],
   "source": [
    "def from_dict_to_dataframe(data_dict):\n",
    "    df = pd.DataFrame.from_dict(data_dict, orient = 'index')\n",
    "    return df"
   ]
  },
  {
   "cell_type": "code",
   "execution_count": 88,
   "id": "082e099a",
   "metadata": {},
   "outputs": [],
   "source": [
    "df_1 = from_dict_to_dataframe(data_1)"
   ]
  },
  {
   "cell_type": "code",
   "execution_count": 89,
   "id": "6218caa3",
   "metadata": {},
   "outputs": [],
   "source": [
    "df_2 = from_dict_to_dataframe(data_2)"
   ]
  },
  {
   "cell_type": "code",
   "execution_count": 90,
   "id": "820965e4",
   "metadata": {},
   "outputs": [],
   "source": [
    "df_3 = from_dict_to_dataframe(data_3)"
   ]
  },
  {
   "cell_type": "code",
   "execution_count": 91,
   "id": "f6075be6",
   "metadata": {},
   "outputs": [],
   "source": [
    "def arrange_columns(data_frame):\n",
    "    data_frame.columns = ['Open', 'High', 'Low', 'Close', 'Volume']\n",
    "    data_frame = data_frame.rename_axis('timestamp')\n",
    "    data_frame = data_frame.reset_index()\n",
    "    return data_frame"
   ]
  },
  {
   "cell_type": "code",
   "execution_count": 92,
   "id": "0ef89a15",
   "metadata": {},
   "outputs": [],
   "source": [
    "df_1 = arrange_columns(df_1)"
   ]
  },
  {
   "cell_type": "code",
   "execution_count": 93,
   "id": "56c17b37",
   "metadata": {},
   "outputs": [],
   "source": [
    "df_2 = arrange_columns(df_2)"
   ]
  },
  {
   "cell_type": "code",
   "execution_count": 94,
   "id": "d0979d8f",
   "metadata": {},
   "outputs": [],
   "source": [
    "df_3 = arrange_columns(df_3)"
   ]
  },
  {
   "cell_type": "code",
   "execution_count": 95,
   "id": "dc6852de",
   "metadata": {},
   "outputs": [
    {
     "data": {
      "text/html": [
       "<div>\n",
       "<style scoped>\n",
       "    .dataframe tbody tr th:only-of-type {\n",
       "        vertical-align: middle;\n",
       "    }\n",
       "\n",
       "    .dataframe tbody tr th {\n",
       "        vertical-align: top;\n",
       "    }\n",
       "\n",
       "    .dataframe thead th {\n",
       "        text-align: right;\n",
       "    }\n",
       "</style>\n",
       "<table border=\"1\" class=\"dataframe\">\n",
       "  <thead>\n",
       "    <tr style=\"text-align: right;\">\n",
       "      <th></th>\n",
       "      <th>timestamp</th>\n",
       "      <th>Open</th>\n",
       "      <th>High</th>\n",
       "      <th>Low</th>\n",
       "      <th>Close</th>\n",
       "      <th>Volume</th>\n",
       "    </tr>\n",
       "  </thead>\n",
       "  <tbody>\n",
       "    <tr>\n",
       "      <th>0</th>\n",
       "      <td>2023-06-14 19:59:00</td>\n",
       "      <td>431.7000</td>\n",
       "      <td>432.3000</td>\n",
       "      <td>431.5800</td>\n",
       "      <td>431.8800</td>\n",
       "      <td>9132</td>\n",
       "    </tr>\n",
       "    <tr>\n",
       "      <th>1</th>\n",
       "      <td>2023-06-14 19:58:00</td>\n",
       "      <td>431.4300</td>\n",
       "      <td>431.7800</td>\n",
       "      <td>431.4300</td>\n",
       "      <td>431.7000</td>\n",
       "      <td>5656</td>\n",
       "    </tr>\n",
       "    <tr>\n",
       "      <th>2</th>\n",
       "      <td>2023-06-14 19:57:00</td>\n",
       "      <td>431.4700</td>\n",
       "      <td>431.5000</td>\n",
       "      <td>431.4600</td>\n",
       "      <td>431.4600</td>\n",
       "      <td>1003</td>\n",
       "    </tr>\n",
       "    <tr>\n",
       "      <th>3</th>\n",
       "      <td>2023-06-14 19:56:00</td>\n",
       "      <td>431.5500</td>\n",
       "      <td>431.7000</td>\n",
       "      <td>431.3700</td>\n",
       "      <td>431.3700</td>\n",
       "      <td>5410</td>\n",
       "    </tr>\n",
       "    <tr>\n",
       "      <th>4</th>\n",
       "      <td>2023-06-14 19:55:00</td>\n",
       "      <td>431.6000</td>\n",
       "      <td>431.6500</td>\n",
       "      <td>431.6000</td>\n",
       "      <td>431.6500</td>\n",
       "      <td>1724</td>\n",
       "    </tr>\n",
       "    <tr>\n",
       "      <th>...</th>\n",
       "      <td>...</td>\n",
       "      <td>...</td>\n",
       "      <td>...</td>\n",
       "      <td>...</td>\n",
       "      <td>...</td>\n",
       "      <td>...</td>\n",
       "    </tr>\n",
       "    <tr>\n",
       "      <th>95</th>\n",
       "      <td>2023-06-14 18:24:00</td>\n",
       "      <td>430.9100</td>\n",
       "      <td>430.9100</td>\n",
       "      <td>430.8200</td>\n",
       "      <td>430.8200</td>\n",
       "      <td>1297</td>\n",
       "    </tr>\n",
       "    <tr>\n",
       "      <th>96</th>\n",
       "      <td>2023-06-14 18:23:00</td>\n",
       "      <td>430.6600</td>\n",
       "      <td>430.9386</td>\n",
       "      <td>430.6400</td>\n",
       "      <td>430.6400</td>\n",
       "      <td>3362</td>\n",
       "    </tr>\n",
       "    <tr>\n",
       "      <th>97</th>\n",
       "      <td>2023-06-14 18:22:00</td>\n",
       "      <td>430.9000</td>\n",
       "      <td>430.9000</td>\n",
       "      <td>430.6000</td>\n",
       "      <td>430.6000</td>\n",
       "      <td>3089</td>\n",
       "    </tr>\n",
       "    <tr>\n",
       "      <th>98</th>\n",
       "      <td>2023-06-14 18:21:00</td>\n",
       "      <td>430.9500</td>\n",
       "      <td>430.9500</td>\n",
       "      <td>430.7000</td>\n",
       "      <td>430.8800</td>\n",
       "      <td>3197</td>\n",
       "    </tr>\n",
       "    <tr>\n",
       "      <th>99</th>\n",
       "      <td>2023-06-14 18:20:00</td>\n",
       "      <td>430.9900</td>\n",
       "      <td>431.0000</td>\n",
       "      <td>430.7300</td>\n",
       "      <td>430.8000</td>\n",
       "      <td>6924</td>\n",
       "    </tr>\n",
       "  </tbody>\n",
       "</table>\n",
       "<p>100 rows × 6 columns</p>\n",
       "</div>"
      ],
      "text/plain": [
       "              timestamp      Open      High       Low     Close Volume\n",
       "0   2023-06-14 19:59:00  431.7000  432.3000  431.5800  431.8800   9132\n",
       "1   2023-06-14 19:58:00  431.4300  431.7800  431.4300  431.7000   5656\n",
       "2   2023-06-14 19:57:00  431.4700  431.5000  431.4600  431.4600   1003\n",
       "3   2023-06-14 19:56:00  431.5500  431.7000  431.3700  431.3700   5410\n",
       "4   2023-06-14 19:55:00  431.6000  431.6500  431.6000  431.6500   1724\n",
       "..                  ...       ...       ...       ...       ...    ...\n",
       "95  2023-06-14 18:24:00  430.9100  430.9100  430.8200  430.8200   1297\n",
       "96  2023-06-14 18:23:00  430.6600  430.9386  430.6400  430.6400   3362\n",
       "97  2023-06-14 18:22:00  430.9000  430.9000  430.6000  430.6000   3089\n",
       "98  2023-06-14 18:21:00  430.9500  430.9500  430.7000  430.8800   3197\n",
       "99  2023-06-14 18:20:00  430.9900  431.0000  430.7300  430.8000   6924\n",
       "\n",
       "[100 rows x 6 columns]"
      ]
     },
     "execution_count": 95,
     "metadata": {},
     "output_type": "execute_result"
    }
   ],
   "source": [
    "df_3"
   ]
  },
  {
   "cell_type": "markdown",
   "id": "26355b7d",
   "metadata": {},
   "source": [
    "## Defining a indicator function that takes dataframe and timeperiod"
   ]
  },
  {
   "cell_type": "code",
   "execution_count": 96,
   "id": "a74c0fae",
   "metadata": {},
   "outputs": [],
   "source": [
    "def indicator(dataframe, timeperiod):\n",
    "    dataframe['indicator'] = dataframe['Close'].rolling(timeperiod).mean()\n",
    "    result_df = dataframe[['timestamp', 'indicator']].copy()\n",
    "    return result_df"
   ]
  },
  {
   "cell_type": "code",
   "execution_count": 97,
   "id": "1940d315",
   "metadata": {},
   "outputs": [],
   "source": [
    "timeperiod = 5\n",
    "timeperiod_df_1 = indicator(df_1, timeperiod)"
   ]
  },
  {
   "cell_type": "code",
   "execution_count": 98,
   "id": "1596ea71",
   "metadata": {},
   "outputs": [
    {
     "data": {
      "text/html": [
       "<div>\n",
       "<style scoped>\n",
       "    .dataframe tbody tr th:only-of-type {\n",
       "        vertical-align: middle;\n",
       "    }\n",
       "\n",
       "    .dataframe tbody tr th {\n",
       "        vertical-align: top;\n",
       "    }\n",
       "\n",
       "    .dataframe thead th {\n",
       "        text-align: right;\n",
       "    }\n",
       "</style>\n",
       "<table border=\"1\" class=\"dataframe\">\n",
       "  <thead>\n",
       "    <tr style=\"text-align: right;\">\n",
       "      <th></th>\n",
       "      <th>timestamp</th>\n",
       "      <th>indicator</th>\n",
       "    </tr>\n",
       "  </thead>\n",
       "  <tbody>\n",
       "    <tr>\n",
       "      <th>0</th>\n",
       "      <td>2023-06-14 19:59:00</td>\n",
       "      <td>NaN</td>\n",
       "    </tr>\n",
       "    <tr>\n",
       "      <th>1</th>\n",
       "      <td>2023-06-14 19:58:00</td>\n",
       "      <td>NaN</td>\n",
       "    </tr>\n",
       "    <tr>\n",
       "      <th>2</th>\n",
       "      <td>2023-06-14 19:56:00</td>\n",
       "      <td>NaN</td>\n",
       "    </tr>\n",
       "    <tr>\n",
       "      <th>3</th>\n",
       "      <td>2023-06-14 19:54:00</td>\n",
       "      <td>NaN</td>\n",
       "    </tr>\n",
       "    <tr>\n",
       "      <th>4</th>\n",
       "      <td>2023-06-14 19:52:00</td>\n",
       "      <td>183.8760</td>\n",
       "    </tr>\n",
       "    <tr>\n",
       "      <th>...</th>\n",
       "      <td>...</td>\n",
       "      <td>...</td>\n",
       "    </tr>\n",
       "    <tr>\n",
       "      <th>95</th>\n",
       "      <td>2023-06-14 16:59:00</td>\n",
       "      <td>184.0900</td>\n",
       "    </tr>\n",
       "    <tr>\n",
       "      <th>96</th>\n",
       "      <td>2023-06-14 16:58:00</td>\n",
       "      <td>184.0840</td>\n",
       "    </tr>\n",
       "    <tr>\n",
       "      <th>97</th>\n",
       "      <td>2023-06-14 16:57:00</td>\n",
       "      <td>184.0780</td>\n",
       "    </tr>\n",
       "    <tr>\n",
       "      <th>98</th>\n",
       "      <td>2023-06-14 16:56:00</td>\n",
       "      <td>184.0740</td>\n",
       "    </tr>\n",
       "    <tr>\n",
       "      <th>99</th>\n",
       "      <td>2023-06-14 16:55:00</td>\n",
       "      <td>184.0601</td>\n",
       "    </tr>\n",
       "  </tbody>\n",
       "</table>\n",
       "<p>100 rows × 2 columns</p>\n",
       "</div>"
      ],
      "text/plain": [
       "              timestamp  indicator\n",
       "0   2023-06-14 19:59:00        NaN\n",
       "1   2023-06-14 19:58:00        NaN\n",
       "2   2023-06-14 19:56:00        NaN\n",
       "3   2023-06-14 19:54:00        NaN\n",
       "4   2023-06-14 19:52:00   183.8760\n",
       "..                  ...        ...\n",
       "95  2023-06-14 16:59:00   184.0900\n",
       "96  2023-06-14 16:58:00   184.0840\n",
       "97  2023-06-14 16:57:00   184.0780\n",
       "98  2023-06-14 16:56:00   184.0740\n",
       "99  2023-06-14 16:55:00   184.0601\n",
       "\n",
       "[100 rows x 2 columns]"
      ]
     },
     "execution_count": 98,
     "metadata": {},
     "output_type": "execute_result"
    }
   ],
   "source": [
    "timeperiod_df_1"
   ]
  },
  {
   "cell_type": "code",
   "execution_count": 99,
   "id": "84d06ec3",
   "metadata": {},
   "outputs": [
    {
     "data": {
      "text/plain": [
       "5"
      ]
     },
     "execution_count": 99,
     "metadata": {},
     "output_type": "execute_result"
    }
   ],
   "source": [
    "timeperiod"
   ]
  },
  {
   "cell_type": "code",
   "execution_count": 100,
   "id": "0d747456",
   "metadata": {},
   "outputs": [],
   "source": [
    "\n",
    "timeperiod_df_2 = indicator(df_3, timeperiod)"
   ]
  },
  {
   "cell_type": "code",
   "execution_count": 101,
   "id": "d715b10d",
   "metadata": {},
   "outputs": [
    {
     "data": {
      "text/html": [
       "<div>\n",
       "<style scoped>\n",
       "    .dataframe tbody tr th:only-of-type {\n",
       "        vertical-align: middle;\n",
       "    }\n",
       "\n",
       "    .dataframe tbody tr th {\n",
       "        vertical-align: top;\n",
       "    }\n",
       "\n",
       "    .dataframe thead th {\n",
       "        text-align: right;\n",
       "    }\n",
       "</style>\n",
       "<table border=\"1\" class=\"dataframe\">\n",
       "  <thead>\n",
       "    <tr style=\"text-align: right;\">\n",
       "      <th></th>\n",
       "      <th>timestamp</th>\n",
       "      <th>indicator</th>\n",
       "    </tr>\n",
       "  </thead>\n",
       "  <tbody>\n",
       "    <tr>\n",
       "      <th>0</th>\n",
       "      <td>2023-06-14 19:59:00</td>\n",
       "      <td>NaN</td>\n",
       "    </tr>\n",
       "    <tr>\n",
       "      <th>1</th>\n",
       "      <td>2023-06-14 19:58:00</td>\n",
       "      <td>NaN</td>\n",
       "    </tr>\n",
       "    <tr>\n",
       "      <th>2</th>\n",
       "      <td>2023-06-14 19:57:00</td>\n",
       "      <td>NaN</td>\n",
       "    </tr>\n",
       "    <tr>\n",
       "      <th>3</th>\n",
       "      <td>2023-06-14 19:56:00</td>\n",
       "      <td>NaN</td>\n",
       "    </tr>\n",
       "    <tr>\n",
       "      <th>4</th>\n",
       "      <td>2023-06-14 19:55:00</td>\n",
       "      <td>431.6120</td>\n",
       "    </tr>\n",
       "    <tr>\n",
       "      <th>...</th>\n",
       "      <td>...</td>\n",
       "      <td>...</td>\n",
       "    </tr>\n",
       "    <tr>\n",
       "      <th>95</th>\n",
       "      <td>2023-06-14 18:24:00</td>\n",
       "      <td>431.0509</td>\n",
       "    </tr>\n",
       "    <tr>\n",
       "      <th>96</th>\n",
       "      <td>2023-06-14 18:23:00</td>\n",
       "      <td>430.8820</td>\n",
       "    </tr>\n",
       "    <tr>\n",
       "      <th>97</th>\n",
       "      <td>2023-06-14 18:22:00</td>\n",
       "      <td>430.7900</td>\n",
       "    </tr>\n",
       "    <tr>\n",
       "      <th>98</th>\n",
       "      <td>2023-06-14 18:21:00</td>\n",
       "      <td>430.7860</td>\n",
       "    </tr>\n",
       "    <tr>\n",
       "      <th>99</th>\n",
       "      <td>2023-06-14 18:20:00</td>\n",
       "      <td>430.7480</td>\n",
       "    </tr>\n",
       "  </tbody>\n",
       "</table>\n",
       "<p>100 rows × 2 columns</p>\n",
       "</div>"
      ],
      "text/plain": [
       "              timestamp  indicator\n",
       "0   2023-06-14 19:59:00        NaN\n",
       "1   2023-06-14 19:58:00        NaN\n",
       "2   2023-06-14 19:57:00        NaN\n",
       "3   2023-06-14 19:56:00        NaN\n",
       "4   2023-06-14 19:55:00   431.6120\n",
       "..                  ...        ...\n",
       "95  2023-06-14 18:24:00   431.0509\n",
       "96  2023-06-14 18:23:00   430.8820\n",
       "97  2023-06-14 18:22:00   430.7900\n",
       "98  2023-06-14 18:21:00   430.7860\n",
       "99  2023-06-14 18:20:00   430.7480\n",
       "\n",
       "[100 rows x 2 columns]"
      ]
     },
     "execution_count": 101,
     "metadata": {},
     "output_type": "execute_result"
    }
   ],
   "source": [
    "timeperiod_df_2"
   ]
  },
  {
   "cell_type": "code",
   "execution_count": 102,
   "id": "cf94b89b",
   "metadata": {},
   "outputs": [],
   "source": [
    "timeperiod_df_3 = indicator(df_3, timeperiod)"
   ]
  },
  {
   "cell_type": "code",
   "execution_count": 103,
   "id": "26385e09",
   "metadata": {},
   "outputs": [
    {
     "data": {
      "text/html": [
       "<div>\n",
       "<style scoped>\n",
       "    .dataframe tbody tr th:only-of-type {\n",
       "        vertical-align: middle;\n",
       "    }\n",
       "\n",
       "    .dataframe tbody tr th {\n",
       "        vertical-align: top;\n",
       "    }\n",
       "\n",
       "    .dataframe thead th {\n",
       "        text-align: right;\n",
       "    }\n",
       "</style>\n",
       "<table border=\"1\" class=\"dataframe\">\n",
       "  <thead>\n",
       "    <tr style=\"text-align: right;\">\n",
       "      <th></th>\n",
       "      <th>timestamp</th>\n",
       "      <th>indicator</th>\n",
       "    </tr>\n",
       "  </thead>\n",
       "  <tbody>\n",
       "    <tr>\n",
       "      <th>0</th>\n",
       "      <td>2023-06-14 19:59:00</td>\n",
       "      <td>NaN</td>\n",
       "    </tr>\n",
       "    <tr>\n",
       "      <th>1</th>\n",
       "      <td>2023-06-14 19:58:00</td>\n",
       "      <td>NaN</td>\n",
       "    </tr>\n",
       "    <tr>\n",
       "      <th>2</th>\n",
       "      <td>2023-06-14 19:57:00</td>\n",
       "      <td>NaN</td>\n",
       "    </tr>\n",
       "    <tr>\n",
       "      <th>3</th>\n",
       "      <td>2023-06-14 19:56:00</td>\n",
       "      <td>NaN</td>\n",
       "    </tr>\n",
       "    <tr>\n",
       "      <th>4</th>\n",
       "      <td>2023-06-14 19:55:00</td>\n",
       "      <td>431.6120</td>\n",
       "    </tr>\n",
       "    <tr>\n",
       "      <th>...</th>\n",
       "      <td>...</td>\n",
       "      <td>...</td>\n",
       "    </tr>\n",
       "    <tr>\n",
       "      <th>95</th>\n",
       "      <td>2023-06-14 18:24:00</td>\n",
       "      <td>431.0509</td>\n",
       "    </tr>\n",
       "    <tr>\n",
       "      <th>96</th>\n",
       "      <td>2023-06-14 18:23:00</td>\n",
       "      <td>430.8820</td>\n",
       "    </tr>\n",
       "    <tr>\n",
       "      <th>97</th>\n",
       "      <td>2023-06-14 18:22:00</td>\n",
       "      <td>430.7900</td>\n",
       "    </tr>\n",
       "    <tr>\n",
       "      <th>98</th>\n",
       "      <td>2023-06-14 18:21:00</td>\n",
       "      <td>430.7860</td>\n",
       "    </tr>\n",
       "    <tr>\n",
       "      <th>99</th>\n",
       "      <td>2023-06-14 18:20:00</td>\n",
       "      <td>430.7480</td>\n",
       "    </tr>\n",
       "  </tbody>\n",
       "</table>\n",
       "<p>100 rows × 2 columns</p>\n",
       "</div>"
      ],
      "text/plain": [
       "              timestamp  indicator\n",
       "0   2023-06-14 19:59:00        NaN\n",
       "1   2023-06-14 19:58:00        NaN\n",
       "2   2023-06-14 19:57:00        NaN\n",
       "3   2023-06-14 19:56:00        NaN\n",
       "4   2023-06-14 19:55:00   431.6120\n",
       "..                  ...        ...\n",
       "95  2023-06-14 18:24:00   431.0509\n",
       "96  2023-06-14 18:23:00   430.8820\n",
       "97  2023-06-14 18:22:00   430.7900\n",
       "98  2023-06-14 18:21:00   430.7860\n",
       "99  2023-06-14 18:20:00   430.7480\n",
       "\n",
       "[100 rows x 2 columns]"
      ]
     },
     "execution_count": 103,
     "metadata": {},
     "output_type": "execute_result"
    }
   ],
   "source": [
    "timeperiod_df_3"
   ]
  },
  {
   "cell_type": "markdown",
   "id": "7929ea38",
   "metadata": {},
   "source": [
    "## Defining a class strategy capable of computing indicator function and generate a pandas DataFrame class signal_df"
   ]
  },
  {
   "cell_type": "code",
   "execution_count": 112,
   "id": "4435f276",
   "metadata": {},
   "outputs": [],
   "source": [
    "class Strategy:\n",
    "    def __init__(self):\n",
    "        self.df = None\n",
    "        self.close_data = None\n",
    "        self.indicator_data = None\n",
    "        self.signals = None\n",
    "    \n",
    "    def fetch_data(self, script_name):\n",
    "        \n",
    "        data, _ = ts.get_intraday(symbol = 'NVDA', interval = interval, outputsize = 'compact')\n",
    "        \n",
    "        df = from_dict_to_dataframe(data)\n",
    "        df = arrange_columns(df)\n",
    "        self.df = df\n",
    "        self.close_data = self.df['Close']\n",
    "    \n",
    "    def compute_indicator_data(self, timeperiod):\n",
    "        \n",
    "        self.indicator_data = indicator(self.df, timeperiod)['indicator']\n",
    "    \n",
    "    def generated_signals(self):\n",
    "        \n",
    "        self.signals = pd.DataFrame({'timestamp': self.df['timestamp']})\n",
    "        \n",
    "        self.signals['signal'] = 'NO_SIGNAL'\n",
    "        \n",
    "        self.indicator_data = pd.to_numeric(self.indicator_data)\n",
    "        self.close_data = pd.to_numeric(self.close_data)\n",
    "        \n",
    "        for i in range(1, len(self.signals)):\n",
    "            if self.indicator_data[i] > self.close_data[i] and self.indicator_data[i-1] < self.close_data[i-1]:\n",
    "                self.signals.at[i, 'signal'] = 'BUY'\n",
    "            if self.indicator_data[i] < self.close_data[i] and self.indicator_data[i-1] > self.close_data[i-1]:\n",
    "                self.signals.at[i, 'signal'] = 'SELL'\n",
    "    \n",
    "    def execute_strategy(self, script_name, timeperiod):\n",
    "        self.fetch_data(script_name)\n",
    "        self.compute_indicator_data(timeperiod)\n",
    "        self.generated_signals()\n",
    "        return self.signals\n",
    "    \n",
    "    "
   ]
  },
  {
   "cell_type": "code",
   "execution_count": 113,
   "id": "1556b82e",
   "metadata": {},
   "outputs": [],
   "source": [
    "strategy = Strategy()"
   ]
  },
  {
   "cell_type": "code",
   "execution_count": 114,
   "id": "d360a054",
   "metadata": {},
   "outputs": [],
   "source": [
    "script_name = 'NVDA'\n",
    "timeperiod = 5"
   ]
  },
  {
   "cell_type": "code",
   "execution_count": 115,
   "id": "6f7cba10",
   "metadata": {},
   "outputs": [],
   "source": [
    "signals_df = strategy.execute_strategy(script_name, timeperiod)"
   ]
  },
  {
   "cell_type": "code",
   "execution_count": 116,
   "id": "d334748b",
   "metadata": {
    "scrolled": true
   },
   "outputs": [
    {
     "name": "stdout",
     "output_type": "stream",
     "text": [
      "              timestamp     signal\n",
      "0   2023-06-14 19:59:00  NO_SIGNAL\n",
      "1   2023-06-14 19:58:00  NO_SIGNAL\n",
      "2   2023-06-14 19:57:00  NO_SIGNAL\n",
      "3   2023-06-14 19:56:00  NO_SIGNAL\n",
      "4   2023-06-14 19:55:00  NO_SIGNAL\n",
      "..                  ...        ...\n",
      "95  2023-06-14 18:24:00  NO_SIGNAL\n",
      "96  2023-06-14 18:23:00  NO_SIGNAL\n",
      "97  2023-06-14 18:22:00  NO_SIGNAL\n",
      "98  2023-06-14 18:21:00       SELL\n",
      "99  2023-06-14 18:20:00  NO_SIGNAL\n",
      "\n",
      "[100 rows x 2 columns]\n"
     ]
    }
   ],
   "source": [
    "print(signals_df)"
   ]
  },
  {
   "cell_type": "code",
   "execution_count": 117,
   "id": "9ca401fd",
   "metadata": {},
   "outputs": [
    {
     "data": {
      "image/png": "[encoded data removed]",
      "text/plain": [
       "<Figure size 1000x800 with 1 Axes>"
      ]
     },
     "metadata": {},
     "output_type": "display_data"
    }
   ],
   "source": [
    "plt.figure(figsize = (10, 8))\n",
    "plt.plot(signals_df['timestamp'], signals_df['signal'], marker = 'o', linestyle = '', markersize = 5)\n",
    "plt.xlabel('Timestamp')\n",
    "plt.ylabel('Signal')\n",
    "plt.title('Trading Signals')\n",
    "plt.grid(True)\n",
    "plt.show()"
   ]
  },
  {
   "cell_type": "code",
   "execution_count": 118,
   "id": "64bc25a1",
   "metadata": {},
   "outputs": [
    {
     "data": {
      "image/png": "[encoded data removed]",
      "text/plain": [
       "<Figure size 800x575 with 2 Axes>"
      ]
     },
     "metadata": {},
     "output_type": "display_data"
    }
   ],
   "source": [
    "signals_df['timestamp'] = pd.to_datetime(signals_df['timestamp'].str.split(' ', expand=True)[0])\n",
    "\n",
    "df_3['Open'] = pd.to_numeric(df_3['Open'], errors='coerce')\n",
    "df_3['Close'] = pd.to_numeric(df_3['Close'], errors='coerce')\n",
    "df_3['High'] = pd.to_numeric(df_3['High'], errors='coerce')\n",
    "df_3['Low'] = pd.to_numeric(df_3['Low'], errors='coerce')\n",
    "\n",
    "# Concatenate df_3 and signals_df based on the index\n",
    "merged_df = pd.concat([df_3[['Open', 'Close', 'High', 'Low']], signals_df], axis=1)\n",
    "\n",
    "# Set the index of merged_df as a DatetimeIndex\n",
    "merged_df.index = pd.to_datetime(merged_df.index)\n",
    "\n",
    "# Plot the candlestick chart\n",
    "mpf.plot(merged_df, type='candle', ylabel='Price', title='Candlestick Chart')\n",
    "\n",
    "# Show the plot\n",
    "mpf.show()"
   ]
  },
  {
   "cell_type": "code",
   "execution_count": 69,
   "id": "a4a29801",
   "metadata": {},
   "outputs": [
    {
     "data": {
      "text/html": [
       "<div>\n",
       "<style scoped>\n",
       "    .dataframe tbody tr th:only-of-type {\n",
       "        vertical-align: middle;\n",
       "    }\n",
       "\n",
       "    .dataframe tbody tr th {\n",
       "        vertical-align: top;\n",
       "    }\n",
       "\n",
       "    .dataframe thead th {\n",
       "        text-align: right;\n",
       "    }\n",
       "</style>\n",
       "<table border=\"1\" class=\"dataframe\">\n",
       "  <thead>\n",
       "    <tr style=\"text-align: right;\">\n",
       "      <th></th>\n",
       "      <th>timestamp</th>\n",
       "      <th>signal</th>\n",
       "    </tr>\n",
       "  </thead>\n",
       "  <tbody>\n",
       "    <tr>\n",
       "      <th>0</th>\n",
       "      <td>2023-06-14</td>\n",
       "      <td>NO_SIGNAL</td>\n",
       "    </tr>\n",
       "    <tr>\n",
       "      <th>1</th>\n",
       "      <td>2023-06-14</td>\n",
       "      <td>NO_SIGNAL</td>\n",
       "    </tr>\n",
       "    <tr>\n",
       "      <th>2</th>\n",
       "      <td>2023-06-14</td>\n",
       "      <td>NO_SIGNAL</td>\n",
       "    </tr>\n",
       "    <tr>\n",
       "      <th>3</th>\n",
       "      <td>2023-06-14</td>\n",
       "      <td>NO_SIGNAL</td>\n",
       "    </tr>\n",
       "    <tr>\n",
       "      <th>4</th>\n",
       "      <td>2023-06-14</td>\n",
       "      <td>NO_SIGNAL</td>\n",
       "    </tr>\n",
       "    <tr>\n",
       "      <th>...</th>\n",
       "      <td>...</td>\n",
       "      <td>...</td>\n",
       "    </tr>\n",
       "    <tr>\n",
       "      <th>95</th>\n",
       "      <td>2023-06-14</td>\n",
       "      <td>NO_SIGNAL</td>\n",
       "    </tr>\n",
       "    <tr>\n",
       "      <th>96</th>\n",
       "      <td>2023-06-14</td>\n",
       "      <td>NO_SIGNAL</td>\n",
       "    </tr>\n",
       "    <tr>\n",
       "      <th>97</th>\n",
       "      <td>2023-06-14</td>\n",
       "      <td>NO_SIGNAL</td>\n",
       "    </tr>\n",
       "    <tr>\n",
       "      <th>98</th>\n",
       "      <td>2023-06-14</td>\n",
       "      <td>SELL</td>\n",
       "    </tr>\n",
       "    <tr>\n",
       "      <th>99</th>\n",
       "      <td>2023-06-14</td>\n",
       "      <td>NO_SIGNAL</td>\n",
       "    </tr>\n",
       "  </tbody>\n",
       "</table>\n",
       "<p>100 rows × 2 columns</p>\n",
       "</div>"
      ],
      "text/plain": [
       "    timestamp     signal\n",
       "0  2023-06-14  NO_SIGNAL\n",
       "1  2023-06-14  NO_SIGNAL\n",
       "2  2023-06-14  NO_SIGNAL\n",
       "3  2023-06-14  NO_SIGNAL\n",
       "4  2023-06-14  NO_SIGNAL\n",
       "..        ...        ...\n",
       "95 2023-06-14  NO_SIGNAL\n",
       "96 2023-06-14  NO_SIGNAL\n",
       "97 2023-06-14  NO_SIGNAL\n",
       "98 2023-06-14       SELL\n",
       "99 2023-06-14  NO_SIGNAL\n",
       "\n",
       "[100 rows x 2 columns]"
      ]
     },
     "execution_count": 69,
     "metadata": {},
     "output_type": "execute_result"
    }
   ],
   "source": [
    "signals_df"
   ]
  },
  {
   "cell_type": "code",
   "execution_count": null,
   "id": "ed4d9284",
   "metadata": {},
   "outputs": [],
   "source": []
  }
 ],
 "metadata": {
  "kernelspec": {
   "display_name": "Python 3 (ipykernel)",
   "language": "python",
   "name": "python3"
  },
  "language_info": {
   "codemirror_mode": {
    "name": "ipython",
    "version": 3
   },
   "file_extension": ".py",
   "mimetype": "text/x-python",
   "name": "python",
   "nbconvert_exporter": "python",
   "pygments_lexer": "ipython3",
   "version": "3.9.13"
  }
 },
 "nbformat": 4,
 "nbformat_minor": 5
}
