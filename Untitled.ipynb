{
 "cells": [
  {
   "cell_type": "markdown",
   "id": "739dec3d",
   "metadata": {},
   "source": [
    "## Fetching the US Stock data using Alpha Vantage"
   ]
  },
  {
   "cell_type": "code",
   "execution_count": 2,
   "id": "344f796f",
   "metadata": {},
   "outputs": [],
   "source": [
    "from alpha_vantage.timeseries import TimeSeries"
   ]
  },
  {
   "cell_type": "code",
   "execution_count": 37,
   "id": "7d1f7bc2",
   "metadata": {},
   "outputs": [],
   "source": [
    "import matplotlib.pyplot as plt"
   ]
  },
  {
   "cell_type": "code",
   "execution_count": 4,
   "id": "9b955761",
   "metadata": {},
   "outputs": [],
   "source": [
    "import pandas as pd"
   ]
  },
  {
   "cell_type": "code",
   "execution_count": 5,
   "id": "83aeaa28",
   "metadata": {},
   "outputs": [],
   "source": [
    "api_key = 'IDEY1N9XI1Y7HHUE'"
   ]
  },
  {
   "cell_type": "code",
   "execution_count": 6,
   "id": "3a56c38d",
   "metadata": {},
   "outputs": [],
   "source": [
    "ts = TimeSeries(key=api_key)"
   ]
  },
  {
   "cell_type": "code",
   "execution_count": 7,
   "id": "94f72c20",
   "metadata": {},
   "outputs": [],
   "source": [
    "interval = '1min'"
   ]
  },
  {
   "cell_type": "code",
   "execution_count": 8,
   "id": "30d73b52",
   "metadata": {},
   "outputs": [],
   "source": [
    "data_1, meta_data_1 = ts.get_intraday(symbol = 'AAPL', interval = interval, outputsize = 'compact')"
   ]
  },
  {
   "cell_type": "code",
   "execution_count": 9,
   "id": "a5cf0d38",
   "metadata": {},
   "outputs": [],
   "source": [
    "data_2, meta_data_2 = ts.get_intraday(symbol = 'GOOGL', interval = interval, outputsize = 'compact')"
   ]
  },
  {
   "cell_type": "code",
   "execution_count": 10,
   "id": "30e6074d",
   "metadata": {},
   "outputs": [],
   "source": [
    "data_3, meta_data_3 = ts.get_intraday(symbol = 'NVDA', interval = interval, outputsize = 'compact')"
   ]
  },
  {
   "cell_type": "code",
   "execution_count": 11,
   "id": "2da87e32",
   "metadata": {},
   "outputs": [],
   "source": [
    "def from_dict_to_dataframe(data_dict):\n",
    "    df = pd.DataFrame.from_dict(data_dict, orient = 'index')\n",
    "    return df"
   ]
  },
  {
   "cell_type": "code",
   "execution_count": 12,
   "id": "082e099a",
   "metadata": {},
   "outputs": [],
   "source": [
    "df_1 = from_dict_to_dataframe(data_1)"
   ]
  },
  {
   "cell_type": "code",
   "execution_count": 13,
   "id": "6218caa3",
   "metadata": {},
   "outputs": [],
   "source": [
    "df_2 = from_dict_to_dataframe(data_2)"
   ]
  },
  {
   "cell_type": "code",
   "execution_count": 14,
   "id": "820965e4",
   "metadata": {},
   "outputs": [],
   "source": [
    "df_3 = from_dict_to_dataframe(data_3)"
   ]
  },
  {
   "cell_type": "code",
   "execution_count": 15,
   "id": "f6075be6",
   "metadata": {},
   "outputs": [],
   "source": [
    "def arrange_columns(data_frame):\n",
    "    data_frame.columns = ['Open', 'High', 'Low', 'Close', 'Volume']\n",
    "    data_frame = data_frame.rename_axis('timestamp')\n",
    "    data_frame = data_frame.reset_index()\n",
    "    return data_frame"
   ]
  },
  {
   "cell_type": "code",
   "execution_count": 16,
   "id": "0ef89a15",
   "metadata": {},
   "outputs": [],
   "source": [
    "df_1 = arrange_columns(df_1)"
   ]
  },
  {
   "cell_type": "code",
   "execution_count": 17,
   "id": "56c17b37",
   "metadata": {},
   "outputs": [],
   "source": [
    "df_2 = arrange_columns(df_2)"
   ]
  },
  {
   "cell_type": "code",
   "execution_count": 18,
   "id": "d0979d8f",
   "metadata": {},
   "outputs": [],
   "source": [
    "df_3 = arrange_columns(df_3)"
   ]
  },
  {
   "cell_type": "code",
   "execution_count": 19,
   "id": "dc6852de",
   "metadata": {},
   "outputs": [
    {
     "data": {
      "text/html": [
       "<div>\n",
       "<style scoped>\n",
       "    .dataframe tbody tr th:only-of-type {\n",
       "        vertical-align: middle;\n",
       "    }\n",
       "\n",
       "    .dataframe tbody tr th {\n",
       "        vertical-align: top;\n",
       "    }\n",
       "\n",
       "    .dataframe thead th {\n",
       "        text-align: right;\n",
       "    }\n",
       "</style>\n",
       "<table border=\"1\" class=\"dataframe\">\n",
       "  <thead>\n",
       "    <tr style=\"text-align: right;\">\n",
       "      <th></th>\n",
       "      <th>timestamp</th>\n",
       "      <th>Open</th>\n",
       "      <th>High</th>\n",
       "      <th>Low</th>\n",
       "      <th>Close</th>\n",
       "      <th>Volume</th>\n",
       "    </tr>\n",
       "  </thead>\n",
       "  <tbody>\n",
       "    <tr>\n",
       "      <th>0</th>\n",
       "      <td>2023-06-13 19:59:00</td>\n",
       "      <td>413.0900</td>\n",
       "      <td>413.2500</td>\n",
       "      <td>413.0000</td>\n",
       "      <td>413.2500</td>\n",
       "      <td>9332</td>\n",
       "    </tr>\n",
       "    <tr>\n",
       "      <th>1</th>\n",
       "      <td>2023-06-13 19:58:00</td>\n",
       "      <td>413.0000</td>\n",
       "      <td>413.0900</td>\n",
       "      <td>412.9000</td>\n",
       "      <td>413.0900</td>\n",
       "      <td>8210</td>\n",
       "    </tr>\n",
       "    <tr>\n",
       "      <th>2</th>\n",
       "      <td>2023-06-13 19:57:00</td>\n",
       "      <td>412.8500</td>\n",
       "      <td>413.0000</td>\n",
       "      <td>412.8499</td>\n",
       "      <td>412.9000</td>\n",
       "      <td>9141</td>\n",
       "    </tr>\n",
       "    <tr>\n",
       "      <th>3</th>\n",
       "      <td>2023-06-13 19:56:00</td>\n",
       "      <td>412.8000</td>\n",
       "      <td>412.8900</td>\n",
       "      <td>412.8000</td>\n",
       "      <td>412.8900</td>\n",
       "      <td>4668</td>\n",
       "    </tr>\n",
       "    <tr>\n",
       "      <th>4</th>\n",
       "      <td>2023-06-13 19:55:00</td>\n",
       "      <td>412.7607</td>\n",
       "      <td>412.8200</td>\n",
       "      <td>412.7600</td>\n",
       "      <td>412.8200</td>\n",
       "      <td>2142</td>\n",
       "    </tr>\n",
       "    <tr>\n",
       "      <th>...</th>\n",
       "      <td>...</td>\n",
       "      <td>...</td>\n",
       "      <td>...</td>\n",
       "      <td>...</td>\n",
       "      <td>...</td>\n",
       "      <td>...</td>\n",
       "    </tr>\n",
       "    <tr>\n",
       "      <th>95</th>\n",
       "      <td>2023-06-13 18:12:00</td>\n",
       "      <td>411.4000</td>\n",
       "      <td>411.5400</td>\n",
       "      <td>411.3500</td>\n",
       "      <td>411.5000</td>\n",
       "      <td>2144</td>\n",
       "    </tr>\n",
       "    <tr>\n",
       "      <th>96</th>\n",
       "      <td>2023-06-13 18:11:00</td>\n",
       "      <td>411.6700</td>\n",
       "      <td>411.6700</td>\n",
       "      <td>411.4500</td>\n",
       "      <td>411.4500</td>\n",
       "      <td>2939</td>\n",
       "    </tr>\n",
       "    <tr>\n",
       "      <th>97</th>\n",
       "      <td>2023-06-13 18:10:00</td>\n",
       "      <td>412.0300</td>\n",
       "      <td>412.0800</td>\n",
       "      <td>411.6700</td>\n",
       "      <td>411.6700</td>\n",
       "      <td>3515</td>\n",
       "    </tr>\n",
       "    <tr>\n",
       "      <th>98</th>\n",
       "      <td>2023-06-13 18:09:00</td>\n",
       "      <td>412.2000</td>\n",
       "      <td>412.2000</td>\n",
       "      <td>411.8800</td>\n",
       "      <td>411.8800</td>\n",
       "      <td>6060</td>\n",
       "    </tr>\n",
       "    <tr>\n",
       "      <th>99</th>\n",
       "      <td>2023-06-13 18:08:00</td>\n",
       "      <td>412.3200</td>\n",
       "      <td>412.3200</td>\n",
       "      <td>412.2000</td>\n",
       "      <td>412.2000</td>\n",
       "      <td>1703</td>\n",
       "    </tr>\n",
       "  </tbody>\n",
       "</table>\n",
       "<p>100 rows × 6 columns</p>\n",
       "</div>"
      ],
      "text/plain": [
       "              timestamp      Open      High       Low     Close Volume\n",
       "0   2023-06-13 19:59:00  413.0900  413.2500  413.0000  413.2500   9332\n",
       "1   2023-06-13 19:58:00  413.0000  413.0900  412.9000  413.0900   8210\n",
       "2   2023-06-13 19:57:00  412.8500  413.0000  412.8499  412.9000   9141\n",
       "3   2023-06-13 19:56:00  412.8000  412.8900  412.8000  412.8900   4668\n",
       "4   2023-06-13 19:55:00  412.7607  412.8200  412.7600  412.8200   2142\n",
       "..                  ...       ...       ...       ...       ...    ...\n",
       "95  2023-06-13 18:12:00  411.4000  411.5400  411.3500  411.5000   2144\n",
       "96  2023-06-13 18:11:00  411.6700  411.6700  411.4500  411.4500   2939\n",
       "97  2023-06-13 18:10:00  412.0300  412.0800  411.6700  411.6700   3515\n",
       "98  2023-06-13 18:09:00  412.2000  412.2000  411.8800  411.8800   6060\n",
       "99  2023-06-13 18:08:00  412.3200  412.3200  412.2000  412.2000   1703\n",
       "\n",
       "[100 rows x 6 columns]"
      ]
     },
     "execution_count": 19,
     "metadata": {},
     "output_type": "execute_result"
    }
   ],
   "source": [
    "df_3"
   ]
  },
  {
   "cell_type": "markdown",
   "id": "26355b7d",
   "metadata": {},
   "source": [
    "## Defining a indicator function that takes dataframe and timeperiod"
   ]
  },
  {
   "cell_type": "code",
   "execution_count": 20,
   "id": "a74c0fae",
   "metadata": {},
   "outputs": [],
   "source": [
    "def indicator(dataframe, timeperiod):\n",
    "    dataframe['indicator'] = dataframe['Close'].rolling(timeperiod).mean()\n",
    "    result_df = dataframe[['timestamp', 'indicator']].copy()\n",
    "    return result_df"
   ]
  },
  {
   "cell_type": "code",
   "execution_count": 21,
   "id": "1940d315",
   "metadata": {},
   "outputs": [],
   "source": [
    "timeperiod = 5\n",
    "timeperiod_df_1 = indicator(df_1, timeperiod)"
   ]
  },
  {
   "cell_type": "code",
   "execution_count": 22,
   "id": "1596ea71",
   "metadata": {},
   "outputs": [
    {
     "data": {
      "text/html": [
       "<div>\n",
       "<style scoped>\n",
       "    .dataframe tbody tr th:only-of-type {\n",
       "        vertical-align: middle;\n",
       "    }\n",
       "\n",
       "    .dataframe tbody tr th {\n",
       "        vertical-align: top;\n",
       "    }\n",
       "\n",
       "    .dataframe thead th {\n",
       "        text-align: right;\n",
       "    }\n",
       "</style>\n",
       "<table border=\"1\" class=\"dataframe\">\n",
       "  <thead>\n",
       "    <tr style=\"text-align: right;\">\n",
       "      <th></th>\n",
       "      <th>timestamp</th>\n",
       "      <th>indicator</th>\n",
       "    </tr>\n",
       "  </thead>\n",
       "  <tbody>\n",
       "    <tr>\n",
       "      <th>0</th>\n",
       "      <td>2023-06-13 19:59:00</td>\n",
       "      <td>NaN</td>\n",
       "    </tr>\n",
       "    <tr>\n",
       "      <th>1</th>\n",
       "      <td>2023-06-13 19:58:00</td>\n",
       "      <td>NaN</td>\n",
       "    </tr>\n",
       "    <tr>\n",
       "      <th>2</th>\n",
       "      <td>2023-06-13 19:57:00</td>\n",
       "      <td>NaN</td>\n",
       "    </tr>\n",
       "    <tr>\n",
       "      <th>3</th>\n",
       "      <td>2023-06-13 19:56:00</td>\n",
       "      <td>NaN</td>\n",
       "    </tr>\n",
       "    <tr>\n",
       "      <th>4</th>\n",
       "      <td>2023-06-13 19:55:00</td>\n",
       "      <td>183.08398</td>\n",
       "    </tr>\n",
       "    <tr>\n",
       "      <th>...</th>\n",
       "      <td>...</td>\n",
       "      <td>...</td>\n",
       "    </tr>\n",
       "    <tr>\n",
       "      <th>95</th>\n",
       "      <td>2023-06-13 17:24:00</td>\n",
       "      <td>183.26024</td>\n",
       "    </tr>\n",
       "    <tr>\n",
       "      <th>96</th>\n",
       "      <td>2023-06-13 17:22:00</td>\n",
       "      <td>183.25800</td>\n",
       "    </tr>\n",
       "    <tr>\n",
       "      <th>97</th>\n",
       "      <td>2023-06-13 17:21:00</td>\n",
       "      <td>183.26000</td>\n",
       "    </tr>\n",
       "    <tr>\n",
       "      <th>98</th>\n",
       "      <td>2023-06-13 17:20:00</td>\n",
       "      <td>183.26000</td>\n",
       "    </tr>\n",
       "    <tr>\n",
       "      <th>99</th>\n",
       "      <td>2023-06-13 17:18:00</td>\n",
       "      <td>183.26800</td>\n",
       "    </tr>\n",
       "  </tbody>\n",
       "</table>\n",
       "<p>100 rows × 2 columns</p>\n",
       "</div>"
      ],
      "text/plain": [
       "              timestamp  indicator\n",
       "0   2023-06-13 19:59:00        NaN\n",
       "1   2023-06-13 19:58:00        NaN\n",
       "2   2023-06-13 19:57:00        NaN\n",
       "3   2023-06-13 19:56:00        NaN\n",
       "4   2023-06-13 19:55:00  183.08398\n",
       "..                  ...        ...\n",
       "95  2023-06-13 17:24:00  183.26024\n",
       "96  2023-06-13 17:22:00  183.25800\n",
       "97  2023-06-13 17:21:00  183.26000\n",
       "98  2023-06-13 17:20:00  183.26000\n",
       "99  2023-06-13 17:18:00  183.26800\n",
       "\n",
       "[100 rows x 2 columns]"
      ]
     },
     "execution_count": 22,
     "metadata": {},
     "output_type": "execute_result"
    }
   ],
   "source": [
    "timeperiod_df_1"
   ]
  },
  {
   "cell_type": "code",
   "execution_count": 23,
   "id": "84d06ec3",
   "metadata": {},
   "outputs": [
    {
     "data": {
      "text/plain": [
       "5"
      ]
     },
     "execution_count": 23,
     "metadata": {},
     "output_type": "execute_result"
    }
   ],
   "source": [
    "timeperiod"
   ]
  },
  {
   "cell_type": "code",
   "execution_count": 24,
   "id": "0d747456",
   "metadata": {},
   "outputs": [],
   "source": [
    "\n",
    "timeperiod_df_2 = indicator(df_2, timeperiod)"
   ]
  },
  {
   "cell_type": "code",
   "execution_count": 25,
   "id": "d715b10d",
   "metadata": {},
   "outputs": [
    {
     "data": {
      "text/html": [
       "<div>\n",
       "<style scoped>\n",
       "    .dataframe tbody tr th:only-of-type {\n",
       "        vertical-align: middle;\n",
       "    }\n",
       "\n",
       "    .dataframe tbody tr th {\n",
       "        vertical-align: top;\n",
       "    }\n",
       "\n",
       "    .dataframe thead th {\n",
       "        text-align: right;\n",
       "    }\n",
       "</style>\n",
       "<table border=\"1\" class=\"dataframe\">\n",
       "  <thead>\n",
       "    <tr style=\"text-align: right;\">\n",
       "      <th></th>\n",
       "      <th>timestamp</th>\n",
       "      <th>indicator</th>\n",
       "    </tr>\n",
       "  </thead>\n",
       "  <tbody>\n",
       "    <tr>\n",
       "      <th>0</th>\n",
       "      <td>2023-06-13 19:59:00</td>\n",
       "      <td>NaN</td>\n",
       "    </tr>\n",
       "    <tr>\n",
       "      <th>1</th>\n",
       "      <td>2023-06-13 19:56:00</td>\n",
       "      <td>NaN</td>\n",
       "    </tr>\n",
       "    <tr>\n",
       "      <th>2</th>\n",
       "      <td>2023-06-13 19:55:00</td>\n",
       "      <td>NaN</td>\n",
       "    </tr>\n",
       "    <tr>\n",
       "      <th>3</th>\n",
       "      <td>2023-06-13 19:54:00</td>\n",
       "      <td>NaN</td>\n",
       "    </tr>\n",
       "    <tr>\n",
       "      <th>4</th>\n",
       "      <td>2023-06-13 19:53:00</td>\n",
       "      <td>123.824</td>\n",
       "    </tr>\n",
       "    <tr>\n",
       "      <th>...</th>\n",
       "      <td>...</td>\n",
       "      <td>...</td>\n",
       "    </tr>\n",
       "    <tr>\n",
       "      <th>95</th>\n",
       "      <td>2023-06-13 16:43:00</td>\n",
       "      <td>123.670</td>\n",
       "    </tr>\n",
       "    <tr>\n",
       "      <th>96</th>\n",
       "      <td>2023-06-13 16:40:00</td>\n",
       "      <td>123.672</td>\n",
       "    </tr>\n",
       "    <tr>\n",
       "      <th>97</th>\n",
       "      <td>2023-06-13 16:39:00</td>\n",
       "      <td>123.654</td>\n",
       "    </tr>\n",
       "    <tr>\n",
       "      <th>98</th>\n",
       "      <td>2023-06-13 16:38:00</td>\n",
       "      <td>123.654</td>\n",
       "    </tr>\n",
       "    <tr>\n",
       "      <th>99</th>\n",
       "      <td>2023-06-13 16:37:00</td>\n",
       "      <td>123.640</td>\n",
       "    </tr>\n",
       "  </tbody>\n",
       "</table>\n",
       "<p>100 rows × 2 columns</p>\n",
       "</div>"
      ],
      "text/plain": [
       "              timestamp  indicator\n",
       "0   2023-06-13 19:59:00        NaN\n",
       "1   2023-06-13 19:56:00        NaN\n",
       "2   2023-06-13 19:55:00        NaN\n",
       "3   2023-06-13 19:54:00        NaN\n",
       "4   2023-06-13 19:53:00    123.824\n",
       "..                  ...        ...\n",
       "95  2023-06-13 16:43:00    123.670\n",
       "96  2023-06-13 16:40:00    123.672\n",
       "97  2023-06-13 16:39:00    123.654\n",
       "98  2023-06-13 16:38:00    123.654\n",
       "99  2023-06-13 16:37:00    123.640\n",
       "\n",
       "[100 rows x 2 columns]"
      ]
     },
     "execution_count": 25,
     "metadata": {},
     "output_type": "execute_result"
    }
   ],
   "source": [
    "timeperiod_df_2"
   ]
  },
  {
   "cell_type": "code",
   "execution_count": 26,
   "id": "cf94b89b",
   "metadata": {},
   "outputs": [],
   "source": [
    "timeperiod_df_3 = indicator(df_3, timeperiod)"
   ]
  },
  {
   "cell_type": "code",
   "execution_count": 27,
   "id": "26385e09",
   "metadata": {},
   "outputs": [
    {
     "data": {
      "text/html": [
       "<div>\n",
       "<style scoped>\n",
       "    .dataframe tbody tr th:only-of-type {\n",
       "        vertical-align: middle;\n",
       "    }\n",
       "\n",
       "    .dataframe tbody tr th {\n",
       "        vertical-align: top;\n",
       "    }\n",
       "\n",
       "    .dataframe thead th {\n",
       "        text-align: right;\n",
       "    }\n",
       "</style>\n",
       "<table border=\"1\" class=\"dataframe\">\n",
       "  <thead>\n",
       "    <tr style=\"text-align: right;\">\n",
       "      <th></th>\n",
       "      <th>timestamp</th>\n",
       "      <th>indicator</th>\n",
       "    </tr>\n",
       "  </thead>\n",
       "  <tbody>\n",
       "    <tr>\n",
       "      <th>0</th>\n",
       "      <td>2023-06-13 19:59:00</td>\n",
       "      <td>NaN</td>\n",
       "    </tr>\n",
       "    <tr>\n",
       "      <th>1</th>\n",
       "      <td>2023-06-13 19:58:00</td>\n",
       "      <td>NaN</td>\n",
       "    </tr>\n",
       "    <tr>\n",
       "      <th>2</th>\n",
       "      <td>2023-06-13 19:57:00</td>\n",
       "      <td>NaN</td>\n",
       "    </tr>\n",
       "    <tr>\n",
       "      <th>3</th>\n",
       "      <td>2023-06-13 19:56:00</td>\n",
       "      <td>NaN</td>\n",
       "    </tr>\n",
       "    <tr>\n",
       "      <th>4</th>\n",
       "      <td>2023-06-13 19:55:00</td>\n",
       "      <td>412.990</td>\n",
       "    </tr>\n",
       "    <tr>\n",
       "      <th>...</th>\n",
       "      <td>...</td>\n",
       "      <td>...</td>\n",
       "    </tr>\n",
       "    <tr>\n",
       "      <th>95</th>\n",
       "      <td>2023-06-13 18:12:00</td>\n",
       "      <td>411.544</td>\n",
       "    </tr>\n",
       "    <tr>\n",
       "      <th>96</th>\n",
       "      <td>2023-06-13 18:11:00</td>\n",
       "      <td>411.508</td>\n",
       "    </tr>\n",
       "    <tr>\n",
       "      <th>97</th>\n",
       "      <td>2023-06-13 18:10:00</td>\n",
       "      <td>411.520</td>\n",
       "    </tr>\n",
       "    <tr>\n",
       "      <th>98</th>\n",
       "      <td>2023-06-13 18:09:00</td>\n",
       "      <td>411.570</td>\n",
       "    </tr>\n",
       "    <tr>\n",
       "      <th>99</th>\n",
       "      <td>2023-06-13 18:08:00</td>\n",
       "      <td>411.740</td>\n",
       "    </tr>\n",
       "  </tbody>\n",
       "</table>\n",
       "<p>100 rows × 2 columns</p>\n",
       "</div>"
      ],
      "text/plain": [
       "              timestamp  indicator\n",
       "0   2023-06-13 19:59:00        NaN\n",
       "1   2023-06-13 19:58:00        NaN\n",
       "2   2023-06-13 19:57:00        NaN\n",
       "3   2023-06-13 19:56:00        NaN\n",
       "4   2023-06-13 19:55:00    412.990\n",
       "..                  ...        ...\n",
       "95  2023-06-13 18:12:00    411.544\n",
       "96  2023-06-13 18:11:00    411.508\n",
       "97  2023-06-13 18:10:00    411.520\n",
       "98  2023-06-13 18:09:00    411.570\n",
       "99  2023-06-13 18:08:00    411.740\n",
       "\n",
       "[100 rows x 2 columns]"
      ]
     },
     "execution_count": 27,
     "metadata": {},
     "output_type": "execute_result"
    }
   ],
   "source": [
    "timeperiod_df_3"
   ]
  },
  {
   "cell_type": "markdown",
   "id": "7929ea38",
   "metadata": {},
   "source": [
    "## Defining a class strategy capable of computing indicator function and generate a pandas DataFrame class signal_df"
   ]
  },
  {
   "cell_type": "code",
   "execution_count": 28,
   "id": "4435f276",
   "metadata": {},
   "outputs": [],
   "source": [
    "class Strategy:\n",
    "    def __init__(self):\n",
    "        self.df = None\n",
    "        self.close_data = None\n",
    "        self.indicator_data = None\n",
    "        self.signals = None\n",
    "    \n",
    "    def fetch_data(self, script_name):\n",
    "        \n",
    "        data, _ = ts.get_intraday(symbol = 'GOOGL', interval = interval, outputsize = 'compact')\n",
    "        \n",
    "        df = from_dict_to_dataframe(data)\n",
    "        df = arrange_columns(df)\n",
    "        self.df = df\n",
    "        self.close_data = self.df['Close']\n",
    "    \n",
    "    def compute_indicator_data(self, timeperiod):\n",
    "        \n",
    "        self.indicator_data = indicator(self.df, timeperiod)['indicator']\n",
    "    \n",
    "    def generated_signals(self):\n",
    "        \n",
    "        self.signals = pd.DataFrame({'timestamp': self.df['timestamp']})\n",
    "        \n",
    "        self.signals['signal'] = 'NO_SIGNAL'\n",
    "        \n",
    "        self.indicator_data = pd.to_numeric(self.indicator_data)\n",
    "        self.close_data = pd.to_numeric(self.close_data)\n",
    "        \n",
    "        for i in range(1, len(self.signals)):\n",
    "            if self.indicator_data[i] > self.close_data[i] and self.indicator_data[i-1] < self.close_data[i-1]:\n",
    "                self.signals.at[i, 'signal'] = 'BUY'\n",
    "            if self.indicator_data[i] < self.close_data[i] and self.indicator_data[i-1] > self.close_data[i-1]:\n",
    "                self.signals.at[i, 'signal'] = 'SELL'\n",
    "    \n",
    "    def execute_strategy(self, script_name, timeperiod):\n",
    "        self.fetch_data(script_name)\n",
    "        self.compute_indicator_data(timeperiod)\n",
    "        self.generated_signals()\n",
    "        return self.signals\n",
    "    \n",
    "    "
   ]
  },
  {
   "cell_type": "code",
   "execution_count": 29,
   "id": "1556b82e",
   "metadata": {},
   "outputs": [],
   "source": [
    "strategy = Strategy()"
   ]
  },
  {
   "cell_type": "code",
   "execution_count": 30,
   "id": "d360a054",
   "metadata": {},
   "outputs": [],
   "source": [
    "script_name = 'GOOGL'\n",
    "timeperiod = 5"
   ]
  },
  {
   "cell_type": "code",
   "execution_count": 31,
   "id": "6f7cba10",
   "metadata": {},
   "outputs": [],
   "source": [
    "signals_df = strategy.execute_strategy(script_name, timeperiod)"
   ]
  },
  {
   "cell_type": "code",
   "execution_count": 32,
   "id": "d334748b",
   "metadata": {},
   "outputs": [
    {
     "name": "stdout",
     "output_type": "stream",
     "text": [
      "              timestamp     signal\n",
      "0   2023-06-13 19:59:00  NO_SIGNAL\n",
      "1   2023-06-13 19:56:00  NO_SIGNAL\n",
      "2   2023-06-13 19:55:00  NO_SIGNAL\n",
      "3   2023-06-13 19:54:00  NO_SIGNAL\n",
      "4   2023-06-13 19:53:00  NO_SIGNAL\n",
      "..                  ...        ...\n",
      "95  2023-06-13 16:43:00  NO_SIGNAL\n",
      "96  2023-06-13 16:40:00        BUY\n",
      "97  2023-06-13 16:39:00  NO_SIGNAL\n",
      "98  2023-06-13 16:38:00  NO_SIGNAL\n",
      "99  2023-06-13 16:37:00  NO_SIGNAL\n",
      "\n",
      "[100 rows x 2 columns]\n"
     ]
    }
   ],
   "source": [
    "print(signals_df)"
   ]
  },
  {
   "cell_type": "code",
   "execution_count": 39,
   "id": "9ca401fd",
   "metadata": {},
   "outputs": [
    {
     "data": {
      "image/png": "[encoded data removed]",
      "text/plain": [
       "<Figure size 1000x800 with 1 Axes>"
      ]
     },
     "metadata": {},
     "output_type": "display_data"
    }
   ],
   "source": [
    "plt.figure(figsize = (10, 8))\n",
    "plt.plot(signals_df['timestamp'], signals_df['signal'], marker = 'o', linestyle = '', markersize = 5)\n",
    "plt.xlabel('Timestamp')\n",
    "plt.ylabel('Signal')\n",
    "plt.title('Trading Signals')\n",
    "plt.grid(True)\n",
    "plt.show()"
   ]
  },
  {
   "cell_type": "code",
   "execution_count": null,
   "id": "f60c5b0c",
   "metadata": {},
   "outputs": [],
   "source": []
  }
 ],
 "metadata": {
  "kernelspec": {
   "display_name": "Python 3 (ipykernel)",
   "language": "python",
   "name": "python3"
  },
  "language_info": {
   "codemirror_mode": {
    "name": "ipython",
    "version": 3
   },
   "file_extension": ".py",
   "mimetype": "text/x-python",
   "name": "python",
   "nbconvert_exporter": "python",
   "pygments_lexer": "ipython3",
   "version": "3.9.13"
  }
 },
 "nbformat": 4,
 "nbformat_minor": 5
}
